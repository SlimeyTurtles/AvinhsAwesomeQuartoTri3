{
  "cells": [
    {
      "cell_type": "raw",
      "metadata": {},
      "source": [
        "---\n",
        "title: \"Generics Types and Collections\"\n",
        "---"
      ],
      "id": "086233c6"
    },
    {
      "cell_type": "markdown",
      "metadata": {},
      "source": [
        "### Challenge 1\n"
      ],
      "id": "412c964b"
    },
    {
      "cell_type": "code",
      "metadata": {},
      "source": [
        "import java.util.LinkedList;\n",
        "import java.util.Queue;\n",
        "\n",
        "public class QueueCode {\n",
        "\n",
        "    public static void ChallengeOne() {\n",
        "\n",
        "        Queue<String> q = new LinkedList<>();\n",
        "        String[] array = {\"seven\", \"slimy\", \"snakes\", \"sallying\", \"slowly\", \"slithered\", \"southward\"} \n",
        "\n",
        "        for (String sword : String[] array) {\n",
        "            System.out.println(sword);\n",
        "        }\n",
        "\n",
        "    }\n",
        "\n",
        "    public static void main(String[] args) {\n",
        "\n",
        "        Queue<String> queue1 = new LinkedList<>();\n",
        "        Queue<String> queue2 = new LinkedList<>();\n",
        "        ChallengeOne();\n",
        "\n",
        "    }\n",
        "}\n",
        "\n",
        "QueueCode.main(null);"
      ],
      "id": "a5c62a8e",
      "execution_count": null,
      "outputs": []
    },
    {
      "cell_type": "markdown",
      "metadata": {},
      "source": [
        "### Challenge 2\n",
        "### Challenge 3\n",
        "### Challenge 4"
      ],
      "id": "b770bc30"
    }
  ],
  "metadata": {
    "kernelspec": {
      "name": "java",
      "language": "java",
      "display_name": "Java"
    }
  },
  "nbformat": 4,
  "nbformat_minor": 5
}