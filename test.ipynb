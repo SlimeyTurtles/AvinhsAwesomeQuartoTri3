{
  "cells": [
    {
      "cell_type": "raw",
      "metadata": {},
      "source": [
        "---\n",
        "title: \"test\"\n",
        "---"
      ],
      "id": "1cf93401"
    },
    {
      "cell_type": "code",
      "metadata": {},
      "source": [
        "int a_binary = 01;\n",
        "int b_binary = 01;\n",
        "\n",
        "int a_decimal = Integer.parseInt(a_binary, 2);\n",
        "int b_decimal = Integer.parseInt(b_binary, 2);\n",
        "\n",
        "int sum_decimal = a_decimal + b_decimal;\n",
        "\n",
        "int sum_binary = Integer.toBinary(sum_decimal);\n",
        "\n",
        "System.out.println(sum_binary);"
      ],
      "id": "e59e329f",
      "execution_count": null,
      "outputs": []
    }
  ],
  "metadata": {
    "kernelspec": {
      "name": "java",
      "language": "java",
      "display_name": "Java"
    }
  },
  "nbformat": 4,
  "nbformat_minor": 5
}